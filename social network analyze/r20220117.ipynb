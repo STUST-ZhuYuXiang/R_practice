{
 "cells": [
  {
   "cell_type": "markdown",
   "id": "2f3e0f98",
   "metadata": {},
   "source": [
    "社會網路分析<br/>\n",
    "參考教科書：大數據分析: 連結與網路<br/>\n",
    "資料來源：https://github.com/pablobarbera/data-science-workshop"
   ]
  },
  {
   "cell_type": "markdown",
   "id": "a409e342",
   "metadata": {},
   "source": [
    "# 資料準備與探索"
   ]
  },
  {
   "cell_type": "code",
   "execution_count": 2,
   "id": "faf6eacf",
   "metadata": {},
   "outputs": [],
   "source": [
    "# 讀取資料\n",
    "starwars_edges = read.csv(\"D:/Code practice/R/20220117/DATA/star-wars-network-edges.csv\")"
   ]
  },
  {
   "cell_type": "code",
   "execution_count": 3,
   "id": "2680f605",
   "metadata": {},
   "outputs": [
    {
     "name": "stdout",
     "output_type": "stream",
     "text": [
      "'data.frame':\t60 obs. of  3 variables:\n",
      " $ source: Factor w/ 15 levels \"BERU\",\"BIGGS\",..: 3 12 14 11 10 5 7 5 3 5 ...\n",
      " $ target: Factor w/ 18 levels \"C-3PO\",\"CAMIE\",..: 14 14 14 14 14 14 14 12 3 10 ...\n",
      " $ weight: int  17 13 6 5 5 3 1 7 5 16 ...\n"
     ]
    }
   ],
   "source": [
    "str(starwars_edges)"
   ]
  },
  {
   "cell_type": "code",
   "execution_count": 4,
   "id": "43378f0e",
   "metadata": {},
   "outputs": [
    {
     "data": {
      "text/html": [
       "<table>\n",
       "<thead><tr><th scope=col>source</th><th scope=col>target</th><th scope=col>weight</th></tr></thead>\n",
       "<tbody>\n",
       "\t<tr><td>C-3PO    </td><td>R2-D2    </td><td>17       </td></tr>\n",
       "\t<tr><td>LUKE     </td><td>R2-D2    </td><td>13       </td></tr>\n",
       "\t<tr><td>OBI-WAN  </td><td>R2-D2    </td><td> 6       </td></tr>\n",
       "\t<tr><td>LEIA     </td><td>R2-D2    </td><td> 5       </td></tr>\n",
       "\t<tr><td>HAN      </td><td>R2-D2    </td><td> 5       </td></tr>\n",
       "\t<tr><td>CHEWBACCA</td><td>R2-D2    </td><td> 3       </td></tr>\n",
       "</tbody>\n",
       "</table>\n"
      ],
      "text/latex": [
       "\\begin{tabular}{r|lll}\n",
       " source & target & weight\\\\\n",
       "\\hline\n",
       "\t C-3PO     & R2-D2     & 17       \\\\\n",
       "\t LUKE      & R2-D2     & 13       \\\\\n",
       "\t OBI-WAN   & R2-D2     &  6       \\\\\n",
       "\t LEIA      & R2-D2     &  5       \\\\\n",
       "\t HAN       & R2-D2     &  5       \\\\\n",
       "\t CHEWBACCA & R2-D2     &  3       \\\\\n",
       "\\end{tabular}\n"
      ],
      "text/markdown": [
       "\n",
       "| source | target | weight |\n",
       "|---|---|---|\n",
       "| C-3PO     | R2-D2     | 17        |\n",
       "| LUKE      | R2-D2     | 13        |\n",
       "| OBI-WAN   | R2-D2     |  6        |\n",
       "| LEIA      | R2-D2     |  5        |\n",
       "| HAN       | R2-D2     |  5        |\n",
       "| CHEWBACCA | R2-D2     |  3        |\n",
       "\n"
      ],
      "text/plain": [
       "  source    target weight\n",
       "1 C-3PO     R2-D2  17    \n",
       "2 LUKE      R2-D2  13    \n",
       "3 OBI-WAN   R2-D2   6    \n",
       "4 LEIA      R2-D2   5    \n",
       "5 HAN       R2-D2   5    \n",
       "6 CHEWBACCA R2-D2   3    "
      ]
     },
     "metadata": {},
     "output_type": "display_data"
    }
   ],
   "source": [
    "head(starwars_edges)"
   ]
  },
  {
   "cell_type": "markdown",
   "id": "d669eb00",
   "metadata": {},
   "source": [
    "# 模型建立"
   ]
  },
  {
   "cell_type": "code",
   "execution_count": 5,
   "id": "e90745fa",
   "metadata": {},
   "outputs": [
    {
     "name": "stderr",
     "output_type": "stream",
     "text": [
      "Warning message:\n",
      "\"package 'igraph' was built under R version 3.6.3\"\n",
      "Attaching package: 'igraph'\n",
      "\n",
      "The following objects are masked from 'package:stats':\n",
      "\n",
      "    decompose, spectrum\n",
      "\n",
      "The following object is masked from 'package:base':\n",
      "\n",
      "    union\n",
      "\n"
     ]
    }
   ],
   "source": [
    "# 安裝套件 ggplot，並引入\n",
    "# install.packages(\"igraph\")\n",
    "library(igraph)"
   ]
  },
  {
   "cell_type": "code",
   "execution_count": 6,
   "id": "96197204",
   "metadata": {},
   "outputs": [
    {
     "data": {
      "text/plain": [
       "IGRAPH 1e8af07 UNW- 21 60 -- \n",
       "+ attr: name (v/c), weight (e/n)\n",
       "+ edges from 1e8af07 (vertex names):\n",
       " [1] C-3PO    --R2-D2       LUKE     --R2-D2       OBI-WAN  --R2-D2      \n",
       " [4] LEIA     --R2-D2       HAN      --R2-D2       CHEWBACCA--R2-D2      \n",
       " [7] DODONNA  --R2-D2       OBI-WAN  --CHEWBACCA   C-3PO    --CHEWBACCA  \n",
       "[10] LUKE     --CHEWBACCA   HAN      --CHEWBACCA   LEIA     --CHEWBACCA  \n",
       "[13] CHEWBACCA--DARTH VADER CHEWBACCA--DODONNA     LUKE     --CAMIE      \n",
       "[16] CAMIE    --BIGGS       LUKE     --BIGGS       LEIA     --DARTH VADER\n",
       "[19] LUKE     --BERU        BERU     --OWEN        C-3PO    --BERU       \n",
       "[22] LUKE     --OWEN        C-3PO    --LUKE        C-3PO    --OWEN       \n",
       "+ ... omitted several edges"
      ]
     },
     "metadata": {},
     "output_type": "display_data"
    }
   ],
   "source": [
    "# 轉成圖形格式\n",
    "g <- graph_from_data_frame(d=starwars_edges, directed = FALSE)\n",
    "g"
   ]
  },
  {
   "cell_type": "code",
   "execution_count": 7,
   "id": "213c66f9",
   "metadata": {},
   "outputs": [
    {
     "data": {
      "image/png": "[encoded data removed]",
      "text/plain": [
       "Plot with title \"\""
      ]
     },
     "metadata": {},
     "output_type": "display_data"
    }
   ],
   "source": [
    "par(mar=c(0,0,0,0))\n",
    "plot(g)"
   ]
  },
  {
   "cell_type": "markdown",
   "id": "65ce3724",
   "metadata": {},
   "source": [
    "# 模型分析"
   ]
  },
  {
   "cell_type": "code",
   "execution_count": 8,
   "id": "3713c695",
   "metadata": {},
   "outputs": [
    {
     "data": {
      "text/html": [
       "<dl class=dl-horizontal>\n",
       "\t<dt>R2-D2</dt>\n",
       "\t\t<dd>7</dd>\n",
       "\t<dt>HAN</dt>\n",
       "\t\t<dd>8</dd>\n",
       "\t<dt>CHEWBACCA</dt>\n",
       "\t\t<dd>8</dd>\n",
       "\t<dt>C-3PO</dt>\n",
       "\t\t<dd>10</dd>\n",
       "\t<dt>LEIA</dt>\n",
       "\t\t<dd>12</dd>\n",
       "\t<dt>LUKE</dt>\n",
       "\t\t<dd>15</dd>\n",
       "</dl>\n"
      ],
      "text/latex": [
       "\\begin{description*}\n",
       "\\item[R2-D2] 7\n",
       "\\item[HAN] 8\n",
       "\\item[CHEWBACCA] 8\n",
       "\\item[C-3PO] 10\n",
       "\\item[LEIA] 12\n",
       "\\item[LUKE] 15\n",
       "\\end{description*}\n"
      ],
      "text/markdown": [
       "R2-D2\n",
       ":   7HAN\n",
       ":   8CHEWBACCA\n",
       ":   8C-3PO\n",
       ":   10LEIA\n",
       ":   12LUKE\n",
       ":   15\n",
       "\n"
      ],
      "text/plain": [
       "    R2-D2       HAN CHEWBACCA     C-3PO      LEIA      LUKE \n",
       "        7         8         8        10        12        15 "
      ]
     },
     "metadata": {},
     "output_type": "display_data"
    }
   ],
   "source": [
    "# 連結程度: 衡量節點與其他節點的程度\n",
    "tail(sort(degree(g)))"
   ]
  },
  {
   "cell_type": "code",
   "execution_count": 9,
   "id": "4f922d5e",
   "metadata": {},
   "outputs": [
    {
     "data": {
      "text/html": [
       "<dl class=dl-horizontal>\n",
       "\t<dt>R2-D2</dt>\n",
       "\t\t<dd>50</dd>\n",
       "\t<dt>LEIA</dt>\n",
       "\t\t<dd>59</dd>\n",
       "\t<dt>CHEWBACCA</dt>\n",
       "\t\t<dd>63</dd>\n",
       "\t<dt>C-3PO</dt>\n",
       "\t\t<dd>64</dd>\n",
       "\t<dt>HAN</dt>\n",
       "\t\t<dd>80</dd>\n",
       "\t<dt>LUKE</dt>\n",
       "\t\t<dd>129</dd>\n",
       "</dl>\n"
      ],
      "text/latex": [
       "\\begin{description*}\n",
       "\\item[R2-D2] 50\n",
       "\\item[LEIA] 59\n",
       "\\item[CHEWBACCA] 63\n",
       "\\item[C-3PO] 64\n",
       "\\item[HAN] 80\n",
       "\\item[LUKE] 129\n",
       "\\end{description*}\n"
      ],
      "text/markdown": [
       "R2-D2\n",
       ":   50LEIA\n",
       ":   59CHEWBACCA\n",
       ":   63C-3PO\n",
       ":   64HAN\n",
       ":   80LUKE\n",
       ":   129\n",
       "\n"
      ],
      "text/plain": [
       "    R2-D2      LEIA CHEWBACCA     C-3PO       HAN      LUKE \n",
       "       50        59        63        64        80       129 "
      ]
     },
     "metadata": {},
     "output_type": "display_data"
    }
   ],
   "source": [
    "# 強度: 衡量節點連結到其他節點的權重強度\n",
    "tail(sort(strength(g)))"
   ]
  },
  {
   "cell_type": "code",
   "execution_count": 10,
   "id": "174373da",
   "metadata": {},
   "outputs": [
    {
     "data": {
      "text/html": [
       "<dl class=dl-horizontal>\n",
       "\t<dt>C-3PO</dt>\n",
       "\t\t<dd>0.298507462686567</dd>\n",
       "\t<dt>LUKE</dt>\n",
       "\t\t<dd>0.303030303030303</dd>\n",
       "\t<dt>RED LEADER</dt>\n",
       "\t\t<dd>0.317460317460317</dd>\n",
       "\t<dt>DODONNA</dt>\n",
       "\t\t<dd>0.32258064516129</dd>\n",
       "\t<dt>GOLD LEADER</dt>\n",
       "\t\t<dd>0.327868852459016</dd>\n",
       "\t<dt>BIGGS</dt>\n",
       "\t\t<dd>0.338983050847458</dd>\n",
       "</dl>\n"
      ],
      "text/latex": [
       "\\begin{description*}\n",
       "\\item[C-3PO] 0.298507462686567\n",
       "\\item[LUKE] 0.303030303030303\n",
       "\\item[RED LEADER] 0.317460317460317\n",
       "\\item[DODONNA] 0.32258064516129\n",
       "\\item[GOLD LEADER] 0.327868852459016\n",
       "\\item[BIGGS] 0.338983050847458\n",
       "\\end{description*}\n"
      ],
      "text/markdown": [
       "C-3PO\n",
       ":   0.298507462686567LUKE\n",
       ":   0.303030303030303RED LEADER\n",
       ":   0.317460317460317DODONNA\n",
       ":   0.32258064516129GOLD LEADER\n",
       ":   0.327868852459016BIGGS\n",
       ":   0.338983050847458\n",
       "\n"
      ],
      "text/plain": [
       "      C-3PO        LUKE  RED LEADER     DODONNA GOLD LEADER       BIGGS \n",
       "  0.2985075   0.3030303   0.3174603   0.3225806   0.3278689   0.3389831 "
      ]
     },
     "metadata": {},
     "output_type": "display_data"
    }
   ],
   "source": [
    "# 緊密度: 衡量節點連結到其他節點的容易程度\n",
    "tail(sort(closeness(g, normalized = TRUE)))"
   ]
  },
  {
   "cell_type": "code",
   "execution_count": 11,
   "id": "26fcfcb1",
   "metadata": {},
   "outputs": [
    {
     "data": {
      "text/html": [
       "<dl class=dl-horizontal>\n",
       "\t<dt>RED LEADER</dt>\n",
       "\t\t<dd>31.4166666666667</dd>\n",
       "\t<dt>BIGGS</dt>\n",
       "\t\t<dd>31.9166666666667</dd>\n",
       "\t<dt>C-3PO</dt>\n",
       "\t\t<dd>32.7833333333333</dd>\n",
       "\t<dt>HAN</dt>\n",
       "\t\t<dd>37</dd>\n",
       "\t<dt>DODONNA</dt>\n",
       "\t\t<dd>47.5333333333333</dd>\n",
       "\t<dt>LEIA</dt>\n",
       "\t\t<dd>59.95</dd>\n",
       "</dl>\n"
      ],
      "text/latex": [
       "\\begin{description*}\n",
       "\\item[RED LEADER] 31.4166666666667\n",
       "\\item[BIGGS] 31.9166666666667\n",
       "\\item[C-3PO] 32.7833333333333\n",
       "\\item[HAN] 37\n",
       "\\item[DODONNA] 47.5333333333333\n",
       "\\item[LEIA] 59.95\n",
       "\\end{description*}\n"
      ],
      "text/markdown": [
       "RED LEADER\n",
       ":   31.4166666666667BIGGS\n",
       ":   31.9166666666667C-3PO\n",
       ":   32.7833333333333HAN\n",
       ":   37DODONNA\n",
       ":   47.5333333333333LEIA\n",
       ":   59.95\n",
       "\n"
      ],
      "text/plain": [
       "RED LEADER      BIGGS      C-3PO        HAN    DODONNA       LEIA \n",
       "  31.41667   31.91667   32.78333   37.00000   47.53333   59.95000 "
      ]
     },
     "metadata": {},
     "output_type": "display_data"
    }
   ],
   "source": [
    "# 中介度: 衡量節點具有中介地位，可以連結到不同節點\n",
    "tail(sort(betweenness(g)))"
   ]
  },
  {
   "cell_type": "markdown",
   "id": "4c0a81d2",
   "metadata": {},
   "source": [
    "# 模型分析-群組"
   ]
  },
  {
   "cell_type": "code",
   "execution_count": 12,
   "id": "44e23f2b",
   "metadata": {},
   "outputs": [
    {
     "data": {
      "text/plain": [
       "IGRAPH clustering infomap, groups: 2, mod: 0.064\n",
       "+ groups:\n",
       "  $`1`\n",
       "   [1] \"C-3PO\"       \"LUKE\"        \"OBI-WAN\"     \"LEIA\"        \"HAN\"        \n",
       "   [6] \"CHEWBACCA\"   \"DODONNA\"     \"CAMIE\"       \"BIGGS\"       \"BERU\"       \n",
       "  [11] \"GREEDO\"      \"GOLD LEADER\" \"RED LEADER\"  \"R2-D2\"       \"OWEN\"       \n",
       "  [16] \"JABBA\"       \"WEDGE\"       \"RED TEN\"    \n",
       "  \n",
       "  $`2`\n",
       "  [1] \"DARTH VADER\" \"MOTTI\"       \"TARKIN\"     \n",
       "  "
      ]
     },
     "metadata": {},
     "output_type": "display_data"
    }
   ],
   "source": [
    "# 連結程度: 衡量節點與其他節點的程度\n",
    "# 子群組\n",
    "comm <- cluster_infomap(g)\n",
    "comm"
   ]
  },
  {
   "cell_type": "code",
   "execution_count": 13,
   "id": "12beca1d",
   "metadata": {},
   "outputs": [
    {
     "data": {
      "text/html": [
       "<dl class=dl-horizontal>\n",
       "\t<dt>C-3PO</dt>\n",
       "\t\t<dd>6</dd>\n",
       "\t<dt>LUKE</dt>\n",
       "\t\t<dd>6</dd>\n",
       "\t<dt>OBI-WAN</dt>\n",
       "\t\t<dd>6</dd>\n",
       "\t<dt>LEIA</dt>\n",
       "\t\t<dd>6</dd>\n",
       "\t<dt>HAN</dt>\n",
       "\t\t<dd>6</dd>\n",
       "\t<dt>CHEWBACCA</dt>\n",
       "\t\t<dd>6</dd>\n",
       "\t<dt>DODONNA</dt>\n",
       "\t\t<dd>5</dd>\n",
       "\t<dt>CAMIE</dt>\n",
       "\t\t<dd>2</dd>\n",
       "\t<dt>BIGGS</dt>\n",
       "\t\t<dd>5</dd>\n",
       "\t<dt>DARTH VADER</dt>\n",
       "\t\t<dd>3</dd>\n",
       "\t<dt>BERU</dt>\n",
       "\t\t<dd>3</dd>\n",
       "\t<dt>MOTTI</dt>\n",
       "\t\t<dd>3</dd>\n",
       "\t<dt>GREEDO</dt>\n",
       "\t\t<dd>1</dd>\n",
       "\t<dt>GOLD LEADER</dt>\n",
       "\t\t<dd>5</dd>\n",
       "\t<dt>RED LEADER</dt>\n",
       "\t\t<dd>5</dd>\n",
       "\t<dt>R2-D2</dt>\n",
       "\t\t<dd>6</dd>\n",
       "\t<dt>OWEN</dt>\n",
       "\t\t<dd>3</dd>\n",
       "\t<dt>TARKIN</dt>\n",
       "\t\t<dd>3</dd>\n",
       "\t<dt>JABBA</dt>\n",
       "\t\t<dd>1</dd>\n",
       "\t<dt>WEDGE</dt>\n",
       "\t\t<dd>5</dd>\n",
       "\t<dt>RED TEN</dt>\n",
       "\t\t<dd>2</dd>\n",
       "</dl>\n"
      ],
      "text/latex": [
       "\\begin{description*}\n",
       "\\item[C-3PO] 6\n",
       "\\item[LUKE] 6\n",
       "\\item[OBI-WAN] 6\n",
       "\\item[LEIA] 6\n",
       "\\item[HAN] 6\n",
       "\\item[CHEWBACCA] 6\n",
       "\\item[DODONNA] 5\n",
       "\\item[CAMIE] 2\n",
       "\\item[BIGGS] 5\n",
       "\\item[DARTH VADER] 3\n",
       "\\item[BERU] 3\n",
       "\\item[MOTTI] 3\n",
       "\\item[GREEDO] 1\n",
       "\\item[GOLD LEADER] 5\n",
       "\\item[RED LEADER] 5\n",
       "\\item[R2-D2] 6\n",
       "\\item[OWEN] 3\n",
       "\\item[TARKIN] 3\n",
       "\\item[JABBA] 1\n",
       "\\item[WEDGE] 5\n",
       "\\item[RED TEN] 2\n",
       "\\end{description*}\n"
      ],
      "text/markdown": [
       "C-3PO\n",
       ":   6LUKE\n",
       ":   6OBI-WAN\n",
       ":   6LEIA\n",
       ":   6HAN\n",
       ":   6CHEWBACCA\n",
       ":   6DODONNA\n",
       ":   5CAMIE\n",
       ":   2BIGGS\n",
       ":   5DARTH VADER\n",
       ":   3BERU\n",
       ":   3MOTTI\n",
       ":   3GREEDO\n",
       ":   1GOLD LEADER\n",
       ":   5RED LEADER\n",
       ":   5R2-D2\n",
       ":   6OWEN\n",
       ":   3TARKIN\n",
       ":   3JABBA\n",
       ":   1WEDGE\n",
       ":   5RED TEN\n",
       ":   2\n",
       "\n"
      ],
      "text/plain": [
       "      C-3PO        LUKE     OBI-WAN        LEIA         HAN   CHEWBACCA \n",
       "          6           6           6           6           6           6 \n",
       "    DODONNA       CAMIE       BIGGS DARTH VADER        BERU       MOTTI \n",
       "          5           2           5           3           3           3 \n",
       "     GREEDO GOLD LEADER  RED LEADER       R2-D2        OWEN      TARKIN \n",
       "          1           5           5           6           3           3 \n",
       "      JABBA       WEDGE     RED TEN \n",
       "          1           5           2 "
      ]
     },
     "metadata": {},
     "output_type": "display_data"
    },
    {
     "data": {
      "text/plain": [
       "\n",
       "1 2 3 5 6 \n",
       "2 2 5 5 7 "
      ]
     },
     "metadata": {},
     "output_type": "display_data"
    },
    {
     "data": {
      "text/html": [
       "<dl class=dl-horizontal>\n",
       "\t<dt>C-3PO</dt>\n",
       "\t\t<dd>1</dd>\n",
       "\t<dt>LUKE</dt>\n",
       "\t\t<dd>2</dd>\n",
       "\t<dt>OBI-WAN</dt>\n",
       "\t\t<dd>3</dd>\n",
       "\t<dt>LEIA</dt>\n",
       "\t\t<dd>4</dd>\n",
       "\t<dt>HAN</dt>\n",
       "\t\t<dd>5</dd>\n",
       "\t<dt>CHEWBACCA</dt>\n",
       "\t\t<dd>6</dd>\n",
       "\t<dt>R2-D2</dt>\n",
       "\t\t<dd>16</dd>\n",
       "</dl>\n"
      ],
      "text/latex": [
       "\\begin{description*}\n",
       "\\item[C-3PO] 1\n",
       "\\item[LUKE] 2\n",
       "\\item[OBI-WAN] 3\n",
       "\\item[LEIA] 4\n",
       "\\item[HAN] 5\n",
       "\\item[CHEWBACCA] 6\n",
       "\\item[R2-D2] 16\n",
       "\\end{description*}\n"
      ],
      "text/markdown": [
       "C-3PO\n",
       ":   1LUKE\n",
       ":   2OBI-WAN\n",
       ":   3LEIA\n",
       ":   4HAN\n",
       ":   5CHEWBACCA\n",
       ":   6R2-D2\n",
       ":   16\n",
       "\n"
      ],
      "text/plain": [
       "    C-3PO      LUKE   OBI-WAN      LEIA       HAN CHEWBACCA     R2-D2 \n",
       "        1         2         3         4         5         6        16 "
      ]
     },
     "metadata": {},
     "output_type": "display_data"
    }
   ],
   "source": [
    "# 計算核心子群組\n",
    "coreness(g)\n",
    "table(coreness(g))\n",
    "which(coreness(g)==6)"
   ]
  },
  {
   "cell_type": "code",
   "execution_count": 14,
   "id": "f50eafa8",
   "metadata": {},
   "outputs": [
    {
     "data": {
      "image/png": "[encoded data removed]",
      "text/plain": [
       "Plot with title \"\""
      ]
     },
     "metadata": {},
     "output_type": "display_data"
    }
   ],
   "source": [
    "# 繪製核心群組，以LUKE為中心\n",
    "core <- induced_subgraph(g, v=which(coreness(g) == 6))\n",
    "plot(core)"
   ]
  }
 ],
 "metadata": {
  "kernelspec": {
   "display_name": "R",
   "language": "R",
   "name": "ir"
  },
  "language_info": {
   "codemirror_mode": "r",
   "file_extension": ".r",
   "mimetype": "text/x-r-source",
   "name": "R",
   "pygments_lexer": "r",
   "version": "3.6.1"
  },
  "toc": {
   "base_numbering": 1,
   "nav_menu": {},
   "number_sections": true,
   "sideBar": true,
   "skip_h1_title": false,
   "title_cell": "Table of Contents",
   "title_sidebar": "Contents",
   "toc_cell": false,
   "toc_position": {
    "height": "calc(100% - 180px)",
    "left": "10px",
    "top": "150px",
    "width": "179px"
   },
   "toc_section_display": true,
   "toc_window_display": true
  }
 },
 "nbformat": 4,
 "nbformat_minor": 5
}
